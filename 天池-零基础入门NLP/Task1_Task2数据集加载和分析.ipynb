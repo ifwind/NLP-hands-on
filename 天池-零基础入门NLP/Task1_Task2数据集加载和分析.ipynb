{
 "cells": [
  {
   "cell_type": "markdown",
   "metadata": {},
   "source": [
    "## **Task1&Task2 数据读取与数据分析**\n",
    "\n",
    "赛题数据是文本数据，每个新闻是不定长的，使用csv格式进行存储。因此可以直接用`Pandas`完成数据读取的操作。"
   ]
  },
  {
   "cell_type": "code",
   "execution_count": 1,
   "metadata": {},
   "outputs": [],
   "source": [
    "import pandas as pd\n",
    "train_df = pd.read_csv(r'train_set.csv', sep='\\t')"
   ]
  },
  {
   "cell_type": "markdown",
   "metadata": {},
   "source": [
    "`pd.read_csv`常用参数：\n",
    "- 读取的文件路径，这里需要根据改成你本地的路径，可以使用相对路径或绝对路径；\n",
    "- 分隔符`sep`，为每列分割的字符，设置为`\\t`即可；\n",
    "- 读取行数`nrows`，为此次读取文件的函数，是数值类型（由于数据集比较大，可以先设置为100）；"
   ]
  },
  {
   "cell_type": "code",
   "execution_count": 2,
   "metadata": {
    "odps_configure": true
   },
   "outputs": [
    {
     "data": {
      "text/html": [
       "<div>\n",
       "<style scoped>\n",
       "    .dataframe tbody tr th:only-of-type {\n",
       "        vertical-align: middle;\n",
       "    }\n",
       "\n",
       "    .dataframe tbody tr th {\n",
       "        vertical-align: top;\n",
       "    }\n",
       "\n",
       "    .dataframe thead th {\n",
       "        text-align: right;\n",
       "    }\n",
       "</style>\n",
       "<table border=\"1\" class=\"dataframe\">\n",
       "  <thead>\n",
       "    <tr style=\"text-align: right;\">\n",
       "      <th></th>\n",
       "      <th>label</th>\n",
       "      <th>text</th>\n",
       "    </tr>\n",
       "  </thead>\n",
       "  <tbody>\n",
       "    <tr>\n",
       "      <th>0</th>\n",
       "      <td>2</td>\n",
       "      <td>2967 6758 339 2021 1854 3731 4109 3792 4149 15...</td>\n",
       "    </tr>\n",
       "    <tr>\n",
       "      <th>1</th>\n",
       "      <td>11</td>\n",
       "      <td>4464 486 6352 5619 2465 4802 1452 3137 5778 54...</td>\n",
       "    </tr>\n",
       "    <tr>\n",
       "      <th>2</th>\n",
       "      <td>3</td>\n",
       "      <td>7346 4068 5074 3747 5681 6093 1777 2226 7354 6...</td>\n",
       "    </tr>\n",
       "    <tr>\n",
       "      <th>3</th>\n",
       "      <td>2</td>\n",
       "      <td>7159 948 4866 2109 5520 2490 211 3956 5520 549...</td>\n",
       "    </tr>\n",
       "    <tr>\n",
       "      <th>4</th>\n",
       "      <td>3</td>\n",
       "      <td>3646 3055 3055 2490 4659 6065 3370 5814 2465 5...</td>\n",
       "    </tr>\n",
       "  </tbody>\n",
       "</table>\n",
       "</div>"
      ],
      "text/plain": [
       "   label                                               text\n",
       "0      2  2967 6758 339 2021 1854 3731 4109 3792 4149 15...\n",
       "1     11  4464 486 6352 5619 2465 4802 1452 3137 5778 54...\n",
       "2      3  7346 4068 5074 3747 5681 6093 1777 2226 7354 6...\n",
       "3      2  7159 948 4866 2109 5520 2490 211 3956 5520 549...\n",
       "4      3  3646 3055 3055 2490 4659 6065 3370 5814 2465 5..."
      ]
     },
     "execution_count": 2,
     "metadata": {},
     "output_type": "execute_result"
    }
   ],
   "source": [
    "train_df.head(5)"
   ]
  },
  {
   "cell_type": "markdown",
   "metadata": {},
   "source": [
    "同样的方法加载测试集数据。"
   ]
  },
  {
   "cell_type": "code",
   "execution_count": 4,
   "metadata": {},
   "outputs": [],
   "source": [
    "test_df = pd.read_csv(r'test_a.csv', sep='\\t')"
   ]
  },
  {
   "cell_type": "code",
   "execution_count": 5,
   "metadata": {},
   "outputs": [
    {
     "data": {
      "text/html": [
       "<div>\n",
       "<style scoped>\n",
       "    .dataframe tbody tr th:only-of-type {\n",
       "        vertical-align: middle;\n",
       "    }\n",
       "\n",
       "    .dataframe tbody tr th {\n",
       "        vertical-align: top;\n",
       "    }\n",
       "\n",
       "    .dataframe thead th {\n",
       "        text-align: right;\n",
       "    }\n",
       "</style>\n",
       "<table border=\"1\" class=\"dataframe\">\n",
       "  <thead>\n",
       "    <tr style=\"text-align: right;\">\n",
       "      <th></th>\n",
       "      <th>text</th>\n",
       "    </tr>\n",
       "  </thead>\n",
       "  <tbody>\n",
       "    <tr>\n",
       "      <th>0</th>\n",
       "      <td>5399 3117 1070 4321 4568 2621 5466 3772 4516 2...</td>\n",
       "    </tr>\n",
       "    <tr>\n",
       "      <th>1</th>\n",
       "      <td>2491 4109 1757 7539 648 3695 3038 4490 23 7019...</td>\n",
       "    </tr>\n",
       "    <tr>\n",
       "      <th>2</th>\n",
       "      <td>2673 5076 6835 2835 5948 5677 3247 4124 2465 5...</td>\n",
       "    </tr>\n",
       "    <tr>\n",
       "      <th>3</th>\n",
       "      <td>4562 4893 2210 4761 3659 1324 2595 5949 4583 2...</td>\n",
       "    </tr>\n",
       "    <tr>\n",
       "      <th>4</th>\n",
       "      <td>4269 7134 2614 1724 4464 1324 3370 3370 2106 2...</td>\n",
       "    </tr>\n",
       "  </tbody>\n",
       "</table>\n",
       "</div>"
      ],
      "text/plain": [
       "                                                text\n",
       "0  5399 3117 1070 4321 4568 2621 5466 3772 4516 2...\n",
       "1  2491 4109 1757 7539 648 3695 3038 4490 23 7019...\n",
       "2  2673 5076 6835 2835 5948 5677 3247 4124 2465 5...\n",
       "3  4562 4893 2210 4761 3659 1324 2595 5949 4583 2...\n",
       "4  4269 7134 2614 1724 4464 1324 3370 3370 2106 2..."
      ]
     },
     "execution_count": 5,
     "metadata": {},
     "output_type": "execute_result"
    }
   ],
   "source": [
    "test_df.head(5)"
   ]
  },
  {
   "cell_type": "markdown",
   "metadata": {},
   "source": [
    "### **数据分析**\n",
    "读取完训练集后，初步查看数据格式后，可以对数据集进行数据分析的操作。\n",
    "\n",
    "读取了所有的训练集数据，从下面几个角度对数据集进行数据分析：\n",
    "\n",
    "- 赛题数据中，新闻文本的长度是多少？\n",
    "- 赛题数据中，字符分布是怎么样的？\n",
    "- 赛题数据的类别分布是怎么样的，哪些类别比较多？\n",
    "- 赛题数据中，不同类别的文本长度分布如何？\n",
    "- 赛题数据中，不同类别的字符分布是怎么样的？"
   ]
  },
  {
   "cell_type": "markdown",
   "metadata": {},
   "source": [
    "#### **统计数据集中所有句子所包含字符的平均个数**\n",
    "\n",
    "由上面的表格可以知道，训练集的每行句子的字符使用空格进行隔开，所以可以分割，然后统计单词的个数来得到每个句子的长度。"
   ]
  },
  {
   "cell_type": "code",
   "execution_count": 6,
   "metadata": {},
   "outputs": [
    {
     "name": "stdout",
     "output_type": "stream",
     "text": [
      "Populating the interactive namespace from numpy and matplotlib\n",
      "count    200000.000000\n",
      "mean        907.207110\n",
      "std         996.029036\n",
      "min           2.000000\n",
      "25%         374.000000\n",
      "50%         676.000000\n",
      "75%        1131.000000\n",
      "max       57921.000000\n",
      "Name: text_len, dtype: float64\n"
     ]
    }
   ],
   "source": [
    "%pylab inline\n",
    "train_df['text_len'] = train_df['text'].apply(lambda x: len(x.split(' ')))\n",
    "print(train_df['text_len'].describe())"
   ]
  },
  {
   "cell_type": "markdown",
   "metadata": {},
   "source": [
    "对新闻句子的统计可以得出，赛题的训练数据总共20w条，给定的文本比较长，每个句子平均由907个字符构成，最短的句子长度为2，最长的句子长度为57921。其中75%以下的数据长度在1131以下。\n",
    "\n",
    "下图将句子长度绘制了直方图，可见大部分训练集的句子的长度都几种在2000以内。"
   ]
  },
  {
   "cell_type": "code",
   "execution_count": 7,
   "metadata": {},
   "outputs": [
    {
     "data": {
      "text/plain": [
       "Text(0.5, 1.0, 'Histogram of char count')"
      ]
     },
     "execution_count": 7,
     "metadata": {},
     "output_type": "execute_result"
    },
    {
     "data": {
      "image/png": "[encoded data removed]",
      "text/plain": [
       "<Figure size 432x288 with 1 Axes>"
      ]
     },
     "metadata": {
      "needs_background": "light"
     },
     "output_type": "display_data"
    }
   ],
   "source": [
    "_ = plt.hist(train_df['text_len'], bins=200)\n",
    "plt.xlabel('Text char count in train dataset')\n",
    "plt.title(\"Histogram of char count\")"
   ]
  },
  {
   "cell_type": "code",
   "execution_count": 8,
   "metadata": {},
   "outputs": [
    {
     "data": {
      "text/plain": [
       "Text(0.5, 1.0, 'Histogram of char count')"
      ]
     },
     "execution_count": 8,
     "metadata": {},
     "output_type": "execute_result"
    },
    {
     "data": {
      "image/png": "[encoded data removed]",
      "text/plain": [
       "<Figure size 432x288 with 1 Axes>"
      ]
     },
     "metadata": {
      "needs_background": "light"
     },
     "output_type": "display_data"
    }
   ],
   "source": [
    "_ = plt.hist(train_df[train_df['text_len']<5000]['text_len'], bins=200)\n",
    "plt.xlabel('Text char count in train dataset')\n",
    "plt.title(\"Histogram of char count\")"
   ]
  },
  {
   "cell_type": "markdown",
   "metadata": {},
   "source": [
    "同样统计测试集文本长度："
   ]
  },
  {
   "cell_type": "code",
   "execution_count": 9,
   "metadata": {},
   "outputs": [
    {
     "name": "stdout",
     "output_type": "stream",
     "text": [
      "Populating the interactive namespace from numpy and matplotlib\n",
      "count    50000.000000\n",
      "mean       909.844960\n",
      "std       1032.313375\n",
      "min         14.000000\n",
      "25%        370.000000\n",
      "50%        676.000000\n",
      "75%       1133.000000\n",
      "max      41861.000000\n",
      "Name: text_len, dtype: float64\n"
     ]
    }
   ],
   "source": [
    "%pylab inline\n",
    "test_df['text_len'] = test_df['text'].apply(lambda x: len(x.split(' ')))\n",
    "print(test_df['text_len'].describe())"
   ]
  },
  {
   "cell_type": "markdown",
   "metadata": {},
   "source": [
    "可见测试集共50,000条新闻，每条新闻平均909个字符，最短句子长度为14，最长句子41861,75%以下的数据长度在1133以下。\n",
    "\n",
    "将测试集句子长度绘制了直方图："
   ]
  },
  {
   "cell_type": "code",
   "execution_count": 10,
   "metadata": {},
   "outputs": [
    {
     "data": {
      "text/plain": [
       "Text(0.5, 1.0, 'Histogram of char count')"
      ]
     },
     "execution_count": 10,
     "metadata": {},
     "output_type": "execute_result"
    },
    {
     "data": {
      "image/png": "[encoded data removed]",
      "text/plain": [
       "<Figure size 432x288 with 1 Axes>"
      ]
     },
     "metadata": {
      "needs_background": "light"
     },
     "output_type": "display_data"
    }
   ],
   "source": [
    "_ = plt.hist(test_df['text_len'], bins=200)\n",
    "plt.xlabel('Text char count in test dataset')\n",
    "plt.title(\"Histogram of char count\")"
   ]
  },
  {
   "cell_type": "code",
   "execution_count": 11,
   "metadata": {},
   "outputs": [
    {
     "data": {
      "text/plain": [
       "Text(0.5, 1.0, 'Histogram of char count')"
      ]
     },
     "execution_count": 11,
     "metadata": {},
     "output_type": "execute_result"
    },
    {
     "data": {
      "image/png": "[encoded data removed]",
      "text/plain": [
       "<Figure size 432x288 with 1 Axes>"
      ]
     },
     "metadata": {
      "needs_background": "light"
     },
     "output_type": "display_data"
    }
   ],
   "source": [
    "_ = plt.hist(test_df[test_df['text_len']<5000]['text_len'], bins=200)\n",
    "plt.xlabel('Text char count in test dataset')\n",
    "plt.title(\"Histogram of char count\")"
   ]
  },
  {
   "cell_type": "markdown",
   "metadata": {},
   "source": [
    "可以看到训练集和测试集的文本长度分布接近。"
   ]
  },
  {
   "cell_type": "markdown",
   "metadata": {},
   "source": [
    "#### **字符分布统计**\n",
    "\n",
    "接下来可以统计每个字符出现的次数，首先可以将训练集中所有的句子进行拼接进而划分为字符，并统计每个字符的个数。\n",
    "\n",
    "从统计结果中可以看出，在训练集中总共包括6869个字，其中编号3750的字出现的次数最多，编号3133的字出现的次数最少。"
   ]
  },
  {
   "cell_type": "code",
   "execution_count": 7,
   "metadata": {},
   "outputs": [
    {
     "name": "stdout",
     "output_type": "stream",
     "text": [
      "6869\n",
      "('3750', 7482224)\n",
      "('3133', 1)\n"
     ]
    }
   ],
   "source": [
    "from collections import Counter\n",
    "all_lines = ' '.join(list(train_df['text']))\n",
    "word_count = Counter(all_lines.split(\" \"))\n",
    "word_count = sorted(word_count.items(), key=lambda d:d[1], reverse = True)\n",
    "\n",
    "print(len(word_count))\n",
    "\n",
    "print(word_count[0])\n",
    "\n",
    "print(word_count[-1])"
   ]
  },
  {
   "cell_type": "markdown",
   "metadata": {},
   "source": [
    "还可以根据字在语料中的出现情况，反推出标点符号。下面代码统计了不同字符在句子中出现的次数，其中字符3750，字符900和字符648在20w新闻的覆盖率接近99%，很有可能是标点符号。"
   ]
  },
  {
   "cell_type": "code",
   "execution_count": 8,
   "metadata": {},
   "outputs": [
    {
     "name": "stdout",
     "output_type": "stream",
     "text": [
      "('3750', 197997)\n",
      "('900', 197653)\n",
      "('648', 191975)\n"
     ]
    }
   ],
   "source": [
    "from collections import Counter\n",
    "train_df['text_unique'] = train_df['text'].apply(lambda x: ' '.join(list(set(x.split(' ')))))\n",
    "all_lines = ' '.join(list(train_df['text_unique']))\n",
    "word_count = Counter(all_lines.split(\" \"))\n",
    "word_count = sorted(word_count.items(), key=lambda d:int(d[1]), reverse = True)\n",
    "\n",
    "print(word_count[0])\n",
    "\n",
    "print(word_count[1])\n",
    "\n",
    "print(word_count[2])"
   ]
  },
  {
   "cell_type": "markdown",
   "metadata": {},
   "source": [
    "同样统计一下测试集的字符分布："
   ]
  },
  {
   "cell_type": "code",
   "execution_count": 9,
   "metadata": {},
   "outputs": [
    {
     "name": "stdout",
     "output_type": "stream",
     "text": [
      "6203\n",
      "('3750', 1879488)\n",
      "('1224', 1)\n"
     ]
    }
   ],
   "source": [
    "from collections import Counter\n",
    "all_lines = ' '.join(list(test_df['text']))\n",
    "word_count = Counter(all_lines.split(\" \"))\n",
    "word_count = sorted(word_count.items(), key=lambda d:d[1], reverse = True)\n",
    "\n",
    "print(len(word_count))\n",
    "\n",
    "print(word_count[0])\n",
    "\n",
    "print(word_count[-1])"
   ]
  },
  {
   "cell_type": "code",
   "execution_count": 11,
   "metadata": {},
   "outputs": [
    {
     "name": "stdout",
     "output_type": "stream",
     "text": [
      "('3750', 49455)\n",
      "('900', 49366)\n",
      "('648', 47966)\n"
     ]
    }
   ],
   "source": [
    "from collections import Counter\n",
    "test_df['text_unique'] = test_df['text'].apply(lambda x: ' '.join(list(set(x.split(' ')))))\n",
    "all_lines = ' '.join(list(test_df['text_unique']))\n",
    "word_count = Counter(all_lines.split(\" \"))\n",
    "word_count = sorted(word_count.items(), key=lambda d:int(d[1]), reverse = True)\n",
    "\n",
    "print(word_count[0])\n",
    "\n",
    "print(word_count[1])\n",
    "\n",
    "print(word_count[2])"
   ]
  },
  {
   "cell_type": "markdown",
   "metadata": {},
   "source": [
    "#### **统计数据集中类别分布的规律**\n",
    "接下来对数据集的类别进行分布统计，具体统计每类新闻的样本个数。\n",
    "标签和对应的类别为：\n",
    "{'科技': 0, '股票': 1, '体育': 2, '娱乐': 3, '时政': 4, '社会': 5, '教育': 6, '财经': 7, '家居': 8, '游戏': 9, '房产': 10, '时尚': 11, '彩票': 12, '星座': 13}"
   ]
  },
  {
   "cell_type": "code",
   "execution_count": 16,
   "metadata": {},
   "outputs": [
    {
     "data": {
      "text/plain": [
       "Text(0.5, 0, 'category')"
      ]
     },
     "execution_count": 16,
     "metadata": {},
     "output_type": "execute_result"
    },
    {
     "data": {
      "image/png": "[encoded data removed]",
      "text/plain": [
       "<Figure size 432x288 with 1 Axes>"
      ]
     },
     "metadata": {
      "needs_background": "light"
     },
     "output_type": "display_data"
    }
   ],
   "source": [
    "label2id={'科技': 0, '股票': 1, '体育': 2, '娱乐': 3, '时政': 4, '社会': 5, '教育': 6,\n",
    "          '财经': 7, '家居': 8, '游戏': 9, '房产': 10, '时尚': 11, '彩票': 12, '星座': 13}\n",
    "id2label={}\n",
    "for label,labelid in label2id.items():\n",
    "    id2label[labelid]=label\n",
    "train_df['type']=''\n",
    "for labelid in np.unique(train_df['label'].values):\n",
    "    train_df.loc[train_df['label']==labelid,'type']=id2label[labelid]\n",
    "train_df['type'].value_counts().plot(kind='bar')\n",
    "\n",
    "#注意这两行是为了正确显示中文设置的\n",
    "plt.rcParams['font.sans-serif']=[\"SimHei\"] #用来正常显示中文标签\n",
    "plt.rcParams['axes.unicode_minus']=False #用来正常显示负号\n",
    "\n",
    "plt.title('News class count')\n",
    "plt.xlabel(\"category\")"
   ]
  },
  {
   "cell_type": "markdown",
   "metadata": {},
   "source": [
    "从统计结果可以看出，赛题的数据集类别分布存在较为不均匀的情况。在训练集中科技类新闻最多，其次是股票类新闻，最少的新闻是星座新闻。"
   ]
  },
  {
   "cell_type": "markdown",
   "metadata": {},
   "source": [
    "#### **统计数据集中不同类别下句子平均字符的个数**\n",
    "再统计一下训练集中不同类别下句子平均长度。"
   ]
  },
  {
   "cell_type": "code",
   "execution_count": 20,
   "metadata": {},
   "outputs": [
    {
     "data": {
      "text/plain": [
       "Text(0.5, 0, 'category')"
      ]
     },
     "execution_count": 20,
     "metadata": {},
     "output_type": "execute_result"
    },
    {
     "data": {
      "image/png": "[encoded data removed]",
      "text/plain": [
       "<Figure size 432x288 with 1 Axes>"
      ]
     },
     "metadata": {
      "needs_background": "light"
     },
     "output_type": "display_data"
    }
   ],
   "source": [
    "from collections import Counter\n",
    "text_len_each_label=train_df.groupby('type').agg('mean','text_len')['text_len']\n",
    "text_len_each_label.plot(kind='bar')\n",
    "plt.title('Text char count in each label')\n",
    "plt.xlabel(\"category\")"
   ]
  },
  {
   "cell_type": "markdown",
   "metadata": {},
   "source": [
    "可以看到各个类别的平均句子长度，教育类、caipiao的句子长度最长，时尚类的比较短。\n",
    "#### **统计数据集中不同类别下句子中最常见的5个字符**"
   ]
  },
  {
   "cell_type": "code",
   "execution_count": null,
   "metadata": {
    "scrolled": false
   },
   "outputs": [],
   "source": [
    "from collections import Counter\n",
    "label_groups=train_df.groupby('type')\n",
    "\n",
    "word_count_each_label={}\n",
    "\n",
    "for groupid in label_groups.groups.keys():\n",
    "    group=label_groups.get_group(groupid)\n",
    "    lines = ' '.join(list(group['text']))\n",
    "    word_count = Counter(lines.split(\" \"))\n",
    "    word_count = sorted(word_count.items(), key=lambda d:d[1], reverse = True)\n",
    "    word_count_each_label[groupid]=word_count"
   ]
  },
  {
   "cell_type": "code",
   "execution_count": 38,
   "metadata": {},
   "outputs": [
    {
     "data": {
      "text/html": [
       "<div>\n",
       "<style scoped>\n",
       "    .dataframe tbody tr th:only-of-type {\n",
       "        vertical-align: middle;\n",
       "    }\n",
       "\n",
       "    .dataframe tbody tr th {\n",
       "        vertical-align: top;\n",
       "    }\n",
       "\n",
       "    .dataframe thead th {\n",
       "        text-align: right;\n",
       "    }\n",
       "</style>\n",
       "<table border=\"1\" class=\"dataframe\">\n",
       "  <thead>\n",
       "    <tr style=\"text-align: right;\">\n",
       "      <th></th>\n",
       "      <th>体育</th>\n",
       "      <th>娱乐</th>\n",
       "      <th>家居</th>\n",
       "      <th>彩票</th>\n",
       "      <th>房产</th>\n",
       "      <th>教育</th>\n",
       "      <th>时尚</th>\n",
       "      <th>时政</th>\n",
       "      <th>星座</th>\n",
       "      <th>游戏</th>\n",
       "      <th>社会</th>\n",
       "      <th>科技</th>\n",
       "      <th>股票</th>\n",
       "      <th>财经</th>\n",
       "    </tr>\n",
       "  </thead>\n",
       "  <tbody>\n",
       "    <tr>\n",
       "      <th>0</th>\n",
       "      <td>(3750, 1458331)</td>\n",
       "      <td>(3750, 774668)</td>\n",
       "      <td>(3750, 242367)</td>\n",
       "      <td>(3750, 87412)</td>\n",
       "      <td>(3750, 180259)</td>\n",
       "      <td>(3750, 469540)</td>\n",
       "      <td>(3750, 83834)</td>\n",
       "      <td>(3750, 360839)</td>\n",
       "      <td>(3750, 33796)</td>\n",
       "      <td>(3750, 178783)</td>\n",
       "      <td>(3750, 715740)</td>\n",
       "      <td>(3750, 1267331)</td>\n",
       "      <td>(3750, 1200686)</td>\n",
       "      <td>(3750, 428638)</td>\n",
       "    </tr>\n",
       "    <tr>\n",
       "      <th>1</th>\n",
       "      <td>(648, 974639)</td>\n",
       "      <td>(648, 494477)</td>\n",
       "      <td>(648, 202399)</td>\n",
       "      <td>(4464, 51426)</td>\n",
       "      <td>(648, 114512)</td>\n",
       "      <td>(648, 345372)</td>\n",
       "      <td>(648, 67353)</td>\n",
       "      <td>(648, 231863)</td>\n",
       "      <td>(648, 26867)</td>\n",
       "      <td>(648, 157291)</td>\n",
       "      <td>(648, 329051)</td>\n",
       "      <td>(648, 967653)</td>\n",
       "      <td>(648, 714152)</td>\n",
       "      <td>(648, 262220)</td>\n",
       "    </tr>\n",
       "    <tr>\n",
       "      <th>2</th>\n",
       "      <td>(900, 618294)</td>\n",
       "      <td>(900, 298663)</td>\n",
       "      <td>(900, 92207)</td>\n",
       "      <td>(3370, 45815)</td>\n",
       "      <td>(900, 75185)</td>\n",
       "      <td>(900, 222488)</td>\n",
       "      <td>(900, 37240)</td>\n",
       "      <td>(900, 190842)</td>\n",
       "      <td>(900, 11263)</td>\n",
       "      <td>(900, 70680)</td>\n",
       "      <td>(900, 305241)</td>\n",
       "      <td>(900, 577742)</td>\n",
       "      <td>(3370, 626708)</td>\n",
       "      <td>(900, 184131)</td>\n",
       "    </tr>\n",
       "    <tr>\n",
       "      <th>3</th>\n",
       "      <td>(7399, 351894)</td>\n",
       "      <td>(6122, 187933)</td>\n",
       "      <td>(6122, 57345)</td>\n",
       "      <td>(648, 37041)</td>\n",
       "      <td>(3370, 67780)</td>\n",
       "      <td>(6248, 193757)</td>\n",
       "      <td>(4939, 18591)</td>\n",
       "      <td>(4411, 120442)</td>\n",
       "      <td>(4939, 9651)</td>\n",
       "      <td>(7328, 46477)</td>\n",
       "      <td>(6122, 159125)</td>\n",
       "      <td>(3370, 503768)</td>\n",
       "      <td>(900, 542884)</td>\n",
       "      <td>(3370, 159156)</td>\n",
       "    </tr>\n",
       "    <tr>\n",
       "      <th>4</th>\n",
       "      <td>(6122, 343850)</td>\n",
       "      <td>(4939, 173606)</td>\n",
       "      <td>(4939, 56147)</td>\n",
       "      <td>(2465, 36610)</td>\n",
       "      <td>(2465, 45163)</td>\n",
       "      <td>(2555, 175234)</td>\n",
       "      <td>(6122, 18438)</td>\n",
       "      <td>(7399, 86190)</td>\n",
       "      <td>(669, 8925)</td>\n",
       "      <td>(6122, 43411)</td>\n",
       "      <td>(5598, 136713)</td>\n",
       "      <td>(4464, 307431)</td>\n",
       "      <td>(4464, 445525)</td>\n",
       "      <td>(5296, 132136)</td>\n",
       "    </tr>\n",
       "  </tbody>\n",
       "</table>\n",
       "</div>"
      ],
      "text/plain": [
       "                体育              娱乐              家居             彩票  \\\n",
       "0  (3750, 1458331)  (3750, 774668)  (3750, 242367)  (3750, 87412)   \n",
       "1    (648, 974639)   (648, 494477)   (648, 202399)  (4464, 51426)   \n",
       "2    (900, 618294)   (900, 298663)    (900, 92207)  (3370, 45815)   \n",
       "3   (7399, 351894)  (6122, 187933)   (6122, 57345)   (648, 37041)   \n",
       "4   (6122, 343850)  (4939, 173606)   (4939, 56147)  (2465, 36610)   \n",
       "\n",
       "               房产              教育             时尚              时政  \\\n",
       "0  (3750, 180259)  (3750, 469540)  (3750, 83834)  (3750, 360839)   \n",
       "1   (648, 114512)   (648, 345372)   (648, 67353)   (648, 231863)   \n",
       "2    (900, 75185)   (900, 222488)   (900, 37240)   (900, 190842)   \n",
       "3   (3370, 67780)  (6248, 193757)  (4939, 18591)  (4411, 120442)   \n",
       "4   (2465, 45163)  (2555, 175234)  (6122, 18438)   (7399, 86190)   \n",
       "\n",
       "              星座              游戏              社会               科技  \\\n",
       "0  (3750, 33796)  (3750, 178783)  (3750, 715740)  (3750, 1267331)   \n",
       "1   (648, 26867)   (648, 157291)   (648, 329051)    (648, 967653)   \n",
       "2   (900, 11263)    (900, 70680)   (900, 305241)    (900, 577742)   \n",
       "3   (4939, 9651)   (7328, 46477)  (6122, 159125)   (3370, 503768)   \n",
       "4    (669, 8925)   (6122, 43411)  (5598, 136713)   (4464, 307431)   \n",
       "\n",
       "                股票              财经  \n",
       "0  (3750, 1200686)  (3750, 428638)  \n",
       "1    (648, 714152)   (648, 262220)  \n",
       "2   (3370, 626708)   (900, 184131)  \n",
       "3    (900, 542884)  (3370, 159156)  \n",
       "4   (4464, 445525)  (5296, 132136)  "
      ]
     },
     "execution_count": 38,
     "metadata": {},
     "output_type": "execute_result"
    }
   ],
   "source": [
    "word_count_df_each_label=pd.DataFrame.from_dict(word_count_each_label,orient='index').T\n",
    "\n",
    "word_count_df_each_label.head(5)"
   ]
  },
  {
   "cell_type": "markdown",
   "metadata": {},
   "source": [
    "#### **假设字符3750，字符900和字符648是句子的标点符号，请分析赛题每篇新闻平均由多少个句子构成？**\n",
    "利用re正则表达式实现多个字符对一个字符串进行分割。"
   ]
  },
  {
   "cell_type": "code",
   "execution_count": 41,
   "metadata": {},
   "outputs": [
    {
     "data": {
      "text/plain": [
       "count    200000.000000\n",
       "mean         80.802370\n",
       "std          86.955448\n",
       "min           1.000000\n",
       "25%          29.000000\n",
       "50%          57.000000\n",
       "75%         103.000000\n",
       "max        3460.000000\n",
       "Name: sentence_count, dtype: float64"
      ]
     },
     "execution_count": 41,
     "metadata": {},
     "output_type": "execute_result"
    }
   ],
   "source": [
    "import re\n",
    "\n",
    "train_df['sentence_count']=train_df['text'].apply(lambda x: re.split('3750|900|648',x)).str.len()\n",
    "train_df['sentence_count'].describe()"
   ]
  },
  {
   "cell_type": "markdown",
   "metadata": {},
   "source": [
    "可以看到平均每个文本都由80个句子组成。"
   ]
  },
  {
   "cell_type": "markdown",
   "metadata": {},
   "source": [
    "### **数据分析的结论**\n",
    "\n",
    "通过上述分析可以知道数据集的大致状况：\n",
    "\n",
    "1. 赛题中每个新闻包含的字符个数平均为1000个，还有一些新闻字符较长；\n",
    "2. 赛题中新闻类别分布不均匀，科技类新闻样本量接近4w，星座类新闻样本量不到1k；\n",
    "3. 赛题总共包括7000-8000个字符；\n",
    "\n",
    "还可以得出以下对训练有价值的结论：\n",
    "\n",
    "1. 每个新闻平均字符个数较多，可能需要截断；\n",
    "2. 由于类别不均衡，会严重影响模型的精度；\n"
   ]
  }
 ],
 "metadata": {
  "kernelspec": {
   "display_name": "Python 3",
   "language": "python",
   "name": "python3"
  },
  "language_info": {
   "codemirror_mode": {
    "name": "ipython",
    "version": 3
   },
   "file_extension": ".py",
   "mimetype": "text/x-python",
   "name": "python",
   "nbconvert_exporter": "python",
   "pygments_lexer": "ipython3",
   "version": "3.8.8"
  },
  "pycharm": {
   "stem_cell": {
    "cell_type": "raw",
    "metadata": {
     "collapsed": false
    },
    "source": []
   }
  },
  "tianchi_metadata": {
   "competitions": [],
   "datasets": [
    {
     "id": "83017",
     "title": "零基础入门NLP - 新闻文本分类 比赛数据"
    }
   ],
   "description": "",
   "notebookId": "268405",
   "source": "dsw"
  }
 },
 "nbformat": 4,
 "nbformat_minor": 4
}
