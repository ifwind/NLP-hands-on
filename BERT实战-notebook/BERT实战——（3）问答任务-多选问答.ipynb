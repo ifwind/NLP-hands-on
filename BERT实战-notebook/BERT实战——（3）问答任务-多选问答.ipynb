{
 "cells": [
  {
   "cell_type": "markdown",
   "metadata": {},
   "source": [
    "\n",
    "# BERT实战——（3）问答任务-多选问答\n",
    "\n",
    "## 引言\n",
    "\n",
    "我们将展示如何使用 [🤗 Transformers](https://github.com/huggingface/transformers)代码库中的模型来解决**问答任务中的多选问答问题**。\n",
    "\n",
    "### 任务介绍\n",
    "\n",
    "虽然叫多选问答，但实际上**是指给出一个问题的多个可能的答案（备选项），选出其中一个最合理的**，其实类似于我们平常做的单选题。该任务的**实质同样是分类任务，在多个备选项中进行二分类**，找到答案。\n",
    "\n",
    "比如输入一句话的上半句，给出几个后半句的备选项，选出哪个选项是这个上半句的后半句："
   ]
  },
  {
   "cell_type": "code",
   "execution_count": null,
   "metadata": {},
   "outputs": [],
   "source": [
    "输入：(\"离离原上草\"，[\"天安门一游\",\"一岁一枯荣\",\"春风吹又生\"])\n",
    "输出：1"
   ]
  },
  {
   "cell_type": "markdown",
   "metadata": {},
   "source": [
    "主要分为以下几个部分：\n",
    "\n",
    "1. 数据加载\n",
    "2. 数据预处理\n",
    "3. 微调预训练模型：使用transformer中的`Trainer`接口对预训练模型进行微调。\n",
    "\n",
    "### 前期准备\n",
    "\n",
    "安装以下库："
   ]
  },
  {
   "cell_type": "code",
   "execution_count": null,
   "metadata": {},
   "outputs": [],
   "source": [
    "pip install datasets transformers\n",
    "#transformers==4.9.2\n",
    "#datasets==1.11.0"
   ]
  },
  {
   "cell_type": "markdown",
   "metadata": {},
   "source": [
    "## 数据加载\n",
    "\n",
    "### 数据集介绍\n",
    "\n",
    "我们使用的数据集是[SWAG](https://www.aclweb.org/anthology/D18-1009/)。SWAG是一个关于常识推理的数据集，每个样本描述一种情况，然后给出四个可能的选项。\n",
    "\n",
    "### 加载数据\n",
    "\n",
    "该数据的加载方式在transformers库中进行了封装，我们可以通过以下语句进行数据加载："
   ]
  },
  {
   "cell_type": "code",
   "execution_count": null,
   "metadata": {},
   "outputs": [],
   "source": [
    "from datasets import load_dataset\n",
    "datasets = load_dataset(\"swag\", \"regular\")"
   ]
  },
  {
   "cell_type": "markdown",
   "metadata": {},
   "source": [
    "如果你使用的是自己的数据，参考[第一篇实战博客【定位词：加载数据】](https://ifwind.github.io/2021/08/26/BERT%E5%AE%9E%E6%88%98%E2%80%94%E2%80%94%EF%BC%881%EF%BC%89%E6%96%87%E6%9C%AC%E5%88%86%E7%B1%BB/#%E5%8A%A0%E8%BD%BD%E6%95%B0%E6%8D%AE)加载自己的数据。\n",
    "\n",
    "如果上述代码数据集在下载过程中出现了一些问题，可以[此链接](https://gas.graviti.cn/dataset/datawhale/SWAG\n",
    ")下载数据并解压，将解压后的3个csv文件复制到代码目录下，然后用加载cache的方式进行加载："
   ]
  },
  {
   "cell_type": "code",
   "execution_count": null,
   "metadata": {},
   "outputs": [],
   "source": [
    "import os\n",
    "\n",
    "data_path = '.' #数据路径\n",
    "cache_dir = os.path.join(data_path, 'cache')\n",
    "data_files = {'train': os.path.join(data_path, 'train.csv'), 'val': os.path.join(data_path, 'val.csv'), 'test': os.path.join(data_path, 'test.csv')}\n",
    "datasets = load_dataset(data_path, 'regular', data_files=data_files, cache_dir=cache_dir)"
   ]
  },
  {
   "cell_type": "markdown",
   "metadata": {},
   "source": [
    "给定一个数据切分的key（train、validation或者test）和下标即可查看数据。"
   ]
  },
  {
   "cell_type": "code",
   "execution_count": null,
   "metadata": {},
   "outputs": [],
   "source": [
    "datasets[\"train\"][0]\n",
    "#{'ending0': 'passes by walking down the street playing their instruments.',\n",
    "# 'ending1': 'has heard approaching them.',\n",
    "# 'ending2': \"arrives and they're outside dancing and asleep.\",\n",
    "# 'ending3': 'turns the lead singer watches the performance.',\n",
    "# 'fold-ind': '3416',\n",
    "# 'gold-source': 'gold',\n",
    "# 'label': 0,\n",
    "# 'sent1': 'Members of the procession walk down the street holding small horn brass instruments.',\n",
    "# 'sent2': 'A drum line',\n",
    "# 'startphrase': 'Members of the procession walk down the street holding small horn brass instruments. A drum line',\n",
    "# 'video-id': 'anetv_jkn6uvmqwh4'}"
   ]
  },
  {
   "cell_type": "markdown",
   "metadata": {},
   "source": [
    "下面的函数将从数据集里随机选择几个例子进行展示："
   ]
  },
  {
   "cell_type": "code",
   "execution_count": null,
   "metadata": {},
   "outputs": [],
   "source": [
    "from datasets import ClassLabel\n",
    "import random\n",
    "import pandas as pd\n",
    "from IPython.display import display, HTML\n",
    "\n",
    "def show_random_elements(dataset, num_examples=3):\n",
    "    assert num_examples <= len(dataset), \"Can't pick more elements than there are in the dataset.\"\n",
    "    picks = []\n",
    "    for _ in range(num_examples):\n",
    "        pick = random.randint(0, len(dataset)-1)\n",
    "        while pick in picks:\n",
    "            pick = random.randint(0, len(dataset)-1)\n",
    "        picks.append(pick)\n",
    "    \n",
    "    df = pd.DataFrame(dataset[picks])\n",
    "    for column, typ in dataset.features.items():\n",
    "        if isinstance(typ, ClassLabel):\n",
    "            df[column] = df[column].transform(lambda i: typ.names[i])\n",
    "    display(HTML(df.to_html()))"
   ]
  },
  {
   "cell_type": "code",
   "execution_count": null,
   "metadata": {},
   "outputs": [],
   "source": [
    "show_random_elements(datasets[\"train\"])"
   ]
  },
  {
   "cell_type": "markdown",
   "metadata": {},
   "source": [
    "<table border=\"1\" class=\"dataframe\">\n",
    "  <thead>\n",
    "    <tr style=\"text-align: right;\">\n",
    "      <th></th>\n",
    "      <th>ending0</th>\n",
    "      <th>ending1</th>\n",
    "      <th>ending2</th>\n",
    "      <th>ending3</th>\n",
    "      <th>fold-ind</th>\n",
    "      <th>gold-source</th>\n",
    "      <th>label</th>\n",
    "      <th>sent1</th>\n",
    "      <th>sent2</th>\n",
    "      <th>startphrase</th>\n",
    "      <th>video-id</th>\n",
    "    </tr>\n",
    "  </thead>\n",
    "  <tbody>\n",
    "    <tr>\n",
    "      <th>0</th>\n",
    "      <td>are seated on a field.</td>\n",
    "      <td>are skiing down the slope.</td>\n",
    "      <td>are in a lift.</td>\n",
    "      <td>are pouring out in a man.</td>\n",
    "      <td>16668</td>\n",
    "      <td>gold</td>\n",
    "      <td>1</td>\n",
    "      <td>A man is wiping the skiboard.</td>\n",
    "      <td>Group of people</td>\n",
    "      <td>A man is wiping the skiboard. Group of people</td>\n",
    "      <td>anetv_JmL6BiuXr_g</td>\n",
    "    </tr>\n",
    "    <tr>\n",
    "      <th>1</th>\n",
    "      <td>performs stunts inside a gym.</td>\n",
    "      <td>shows several shopping in the water.</td>\n",
    "      <td>continues his skateboard while talking.</td>\n",
    "      <td>is putting a black bike close.</td>\n",
    "      <td>11424</td>\n",
    "      <td>gold</td>\n",
    "      <td>0</td>\n",
    "      <td>The credits of the video are shown.</td>\n",
    "      <td>A lady</td>\n",
    "      <td>The credits of the video are shown. A lady</td>\n",
    "      <td>anetv_dWyE0o2NetQ</td>\n",
    "    </tr>\n",
    "    <tr>\n",
    "      <th>2</th>\n",
    "      <td>is emerging into the hospital.</td>\n",
    "      <td>are strewn under water at some wreckage.</td>\n",
    "      <td>tosses the wand together and saunters into the marketplace.</td>\n",
    "      <td>swats him upside down.</td>\n",
    "      <td>15023</td>\n",
    "      <td>gen</td>\n",
    "      <td>1</td>\n",
    "      <td>Through his binoculars, someone watches a handful of surfers being rolled up into the wave.</td>\n",
    "      <td>Someone</td>\n",
    "      <td>Through his binoculars, someone watches a handful of surfers being rolled up into the wave. Someone</td>\n",
    "      <td>lsmdc3016_CHASING_MAVERICKS-6791</td>\n",
    "    </tr>\n",
    "    <tr>\n",
    "      <th>3</th>\n",
    "      <td>spies someone sitting below.</td>\n",
    "      <td>opens the fridge and checks out the photo.</td>\n",
    "      <td>puts a little sheepishly.</td>\n",
    "      <td>staggers up to him.</td>\n",
    "      <td>5475</td>\n",
    "      <td>gold</td>\n",
    "      <td>3</td>\n",
    "      <td>He tips it upside down, and its little umbrella falls to the floor.</td>\n",
    "      <td>Back inside, someone</td>\n",
    "      <td>He tips it upside down, and its little umbrella falls to the floor. Back inside, someone</td>\n",
    "      <td>lsmdc1008_Spider-Man2-75503</td>\n",
    "    </tr>\n",
    "  </tbody>\n",
    "</table>\n",
    "\n",
    "可以看到，数据集中的每个示例都有一个上下文，它是由第一个句子(字段`sent1`)和第二个句子的简介(字段`sent2`)组成，并给出四种结尾句子的备选项(字段`ending0`， `ending1`， `ending2`和`ending3`)，然后让模型从中选择正确的一个(由字段`label`表示)。\n",
    "\n",
    "下面的函数让我们更直观地看到一个示例:"
   ]
  },
  {
   "cell_type": "code",
   "execution_count": null,
   "metadata": {},
   "outputs": [],
   "source": [
    "def show_one(example):\n",
    "    print(f\"Context: {example['sent1']}\")\n",
    "    print(f\"  A - {example['sent2']} {example['ending0']}\")\n",
    "    print(f\"  B - {example['sent2']} {example['ending1']}\")\n",
    "    print(f\"  C - {example['sent2']} {example['ending2']}\")\n",
    "    print(f\"  D - {example['sent2']} {example['ending3']}\")\n",
    "    print(f\"\\nGround truth: option {['A', 'B', 'C', 'D'][example['label']]}\")\n",
    "show_one(datasets[\"train\"][0])\n",
    "#Context: Members of the procession walk down the street holding small horn brass instruments.\n",
    "#  A - A drum line passes by walking down the street playing their instruments.\n",
    "#  B - A drum line has heard approaching them.\n",
    "#  C - A drum line arrives and they're outside dancing and asleep.\n",
    "#  D - A drum line turns the lead singer watches the performance.\n",
    "\n",
    "#Ground truth: option A"
   ]
  },
  {
   "cell_type": "markdown",
   "metadata": {},
   "source": [
    "## 数据预处理\n",
    "\n",
    "在将数据喂入模型之前，我们需要对数据进行预处理。\n",
    "\n",
    "仍然是两个数据预处理的基本流程：\n",
    "\n",
    "1. 分词；\n",
    "2. 转化成对应任务输入模型的格式；\n",
    "\n",
    "`Tokenizer`用于上面两步数据预处理工作：`Tokenizer`首先对输入进行tokenize，然后将tokens转化为预模型中需要对应的token ID，再转化为模型需要的输入格式。\n",
    "\n",
    "### 初始化Tokenizer\n",
    "\n",
    "[之前的博客](https://ifwind.github.io/2021/08/26/BERT%E5%AE%9E%E6%88%98%E2%80%94%E2%80%94%EF%BC%881%EF%BC%89%E6%96%87%E6%9C%AC%E5%88%86%E7%B1%BB/#%E5%88%9D%E5%A7%8B%E5%8C%96Tokenizer)已经介绍了一些Tokenizer的内容，并做了Tokenizer分词的示例，这里不再重复。`use_fast=True`指定使用fast版本的tokenizer。"
   ]
  },
  {
   "cell_type": "code",
   "execution_count": null,
   "metadata": {},
   "outputs": [],
   "source": [
    "from transformers import AutoTokenizer\n",
    "model_checkpoint = \"bert-base-uncased\"\n",
    "tokenizer = AutoTokenizer.from_pretrained(model_checkpoint, use_fast=True)"
   ]
  },
  {
   "cell_type": "markdown",
   "metadata": {},
   "source": [
    "### 转化成对应任务输入模型的格式\n",
    "\n",
    "这一类型任务的模型输入是什么呢？\n",
    "\n",
    "事实上，我们应该将问题和备选项分别进行组合，相当于一个样本为**输入备选项个数相同的句子对列表**，如下所示："
   ]
  },
  {
   "cell_type": "code",
   "execution_count": null,
   "metadata": {},
   "outputs": [],
   "source": [
    "[(\"Members of the procession walk down the street holding small horn brass instruments.\",\"A drum line passes by walking down the street playing their instruments.\"),\n",
    "(\"Members of the procession walk down the street holding small horn brass instruments.\",\"A drum line has heard approaching them.\"),\n",
    "(\"Members of the procession walk down the street holding small horn brass instruments.\",\"A drum line arrives and they're outside dancing and asleep.\"),\n",
    "(\"Members of the procession walk down the street holding small horn brass instruments.\",\"A drum line turns the lead singer watches the performance.\")]"
   ]
  },
  {
   "cell_type": "markdown",
   "metadata": {},
   "source": [
    "之前已经介绍过Tokenizer的输入可以是一个单句，也可以是两个句子。\n",
    "\n",
    "那么显然在调用tokenizer之前，我们需要预处理数据集先生成输入Tokenizer的样本。\n",
    "\n",
    "在`preprocess_function`函数中：\n",
    "\n",
    "1. 首先将样本中问题和备选项分别放在两个嵌套列表（两个嵌套列表分别存储了每个样本的问题和备选项）中；\n",
    "\n",
    "   比如，e1_sen1表示样本1的问题（相当于输入tokenizer的句子1），e1_sen2_1表示样本1的备选项1（相当于输入tokenizer的句子2）.....\n",
    "\n",
    "   ```\n",
    "   [[e1_sen1,e1_sen1,e1_sen1,e1_sen1],\n",
    "    [e2_sen1,e2_sen1,e2_sen1,e2_sen1],\n",
    "    [e3_sen1,e3_sen1,e3_sen1,e3_sen1]]\n",
    "    \n",
    "   [[e1_sen2_1,e1_sen2_2,e1_sen2_3,e1_sen2_4],\n",
    "    [e2_sen2_1,e2_sen2_2,e2_sen2_3,e2_sen2_4],\n",
    "    [e3_sen2_1,e3_sen2_2,e3_sen2_3,e3_sen2_4]]\n",
    "   ```\n",
    "\n",
    "2. 然后将问题列表和备选项列表拉平Flatten(两个嵌套列表各自去掉嵌套)，以便tokenizer进行批处理，以问题列表为例：\n",
    "\n",
    "   ```\n",
    "   after flatten->\n",
    "   [e1_sen1,e1_sen1,e1_sen1,e1_sen1,\n",
    "    e2_sen1,e2_sen1,e2_sen1,e2_sen1,\n",
    "    e3_sen1,e3_sen1,e3_sen1,e3_sen1]\n",
    "   after Tokenize->\n",
    "   [e1_tokens1,e1_tokens1,e1_tokens1,e1_tokens1,\n",
    "    e2_tokens1,e2_tokens1,e2_tokens1,e2_tokens1,\n",
    "    e3_tokens1,e3_tokens1,e3_tokens1]\n",
    "   ```\n",
    "\n",
    "3. 经过tokenizer后，再转回每个样本有备选项个数输入id、注意力掩码等。\n",
    "\n",
    "   ```\n",
    "   after unflatten->\n",
    "   [[e1_tokens1,e1_tokens1,e1_tokens1,e1_tokens1],  \n",
    "    [e2_tokens1,e2_tokens1,e2_tokens1,e2_tokens1]\n",
    "    [e3_tokens1,e3_tokens1,e3_tokens1]]\n",
    "   ```\n",
    "\n",
    "参数`truncation=True`使得比模型所能接受最大长度还长的输入被截断。\n",
    "\n",
    "代码如下："
   ]
  },
  {
   "cell_type": "code",
   "execution_count": null,
   "metadata": {},
   "outputs": [],
   "source": [
    "ending_names = [\"ending0\", \"ending1\", \"ending2\", \"ending3\"]\n",
    "\n",
    "def preprocess_function(examples):\n",
    "    # 预处理输入tokenizer的输入\n",
    "    # Repeat each first sentence four times to go with the four possibilities of second sentences.\n",
    "    first_sentences = [[context] * 4 for context in examples[\"sent1\"]]#构造和备选项个数相同的问题句，也是tokenizer的第一个句子\n",
    "    # Grab all second sentences possible for each context.\n",
    "    question_headers = examples[\"sent2\"] #tokenizer的第二个句子的上半句\n",
    "    second_sentences = [[f\"{header} {examples[end][i]}\" for end in ending_names] for i, header in enumerate(question_headers)]#构造上半句拼接下半句作为tokenizer的第二个句子（也就是备选项）\n",
    "    \n",
    "    # Flatten everything\n",
    "    first_sentences = sum(first_sentences, []) #合并成一个列表方便tokenizer一次性处理：[[e1_sen1,e1_sen1,e1_sen1,e1_sen1],[e2_sen1,e2_sen1,e2_sen1,e2_sen1],[e3_sen1,e3_sen1,e3_sen1,e3_sen1]]->[e1_sen1,e1_sen1,e1_sen1,e1_sen1,e2_sen1,e2_sen1,e2_sen1,e2_sen1,e3_sen1,e3_sen1,e3_sen1,e3_sen1]\n",
    "    second_sentences = sum(second_sentences, [])#合并成一个列表方便tokenizer一次性处理\n",
    "    \n",
    "    # Tokenize\n",
    "    tokenized_examples = tokenizer(first_sentences, second_sentences, truncation=True)\n",
    "    # Un-flatten\n",
    "    # 转化成每个样本（一个样本中包括了四个k=[问题1,问题1,问题1,问题1],v=[备选项1,备选项2,备选项3,备选项4]）\n",
    "    # [e1_tokens1,e1_tokens1,e1_tokens1,e1_tokens1,e2_tokens1,e2_tokens1,e2_tokens1,e2_tokens1,e3_tokens1,e3_tokens1,e3_tokens1,e3_tokens1]->[[e1_tokens1,e1_tokens1,e1_tokens1,e1_tokens1],[e2_tokens1,e2_tokens1,e2_tokens1,e2_tokens1],[e3_tokens1,e3_tokens1,e3_tokens1]]\n",
    "    return {k: [v[i:i+4] for i in range(0, len(v), 4)] for k, v in tokenized_examples.items()}"
   ]
  },
  {
   "cell_type": "markdown",
   "metadata": {},
   "source": [
    "以上的预处理函数可以处理一个样本，也可以处理多个样本exapmles。如果是处理多个样本，则返回的是多个样本被预处理之后的结果list。\n",
    "\n",
    "让我们解码一下给定示例的输入，可以看到一个样本对应四个问题和备选项合并的句子。"
   ]
  },
  {
   "cell_type": "code",
   "execution_count": null,
   "metadata": {},
   "outputs": [],
   "source": [
    "examples = datasets[\"train\"][:5]\n",
    "features = preprocess_function(examples)\n",
    "idx = 3\n",
    "[tokenizer.decode(features[\"input_ids\"][idx][i]) for i in range(4)]\n",
    "#['[CLS] a drum line passes by walking down the street playing their instruments. [SEP] members of the procession are playing ping pong and celebrating one left each in quick. [SEP]',\n",
    "# '[CLS] a drum line passes by walking down the street playing their instruments. [SEP] members of the procession wait slowly towards the cadets. [SEP]',\n",
    "# '[CLS] a drum line passes by walking down the street playing their instruments. [SEP] members of the procession makes a square call and ends by jumping down into snowy streets where fans begin to take their positions. [SEP]',\n",
    "# '[CLS] a drum line passes by walking down the street playing their instruments. [SEP] members of the procession play and go back and forth hitting the drums while the audience claps for them. [SEP]']"
   ]
  },
  {
   "cell_type": "markdown",
   "metadata": {},
   "source": [
    "接下来**使用map函数**对数据集**datasets里面三个样本集合的所有样本进行预处理，**将预处理函数prepare_train_features应用到（map)所有样本上。参数`batched=True`可以批量对文本进行编码。这是为了充分利用前面加载fast_tokenizer的优势，它将使用多线程并发地处理批中的文本。"
   ]
  },
  {
   "cell_type": "code",
   "execution_count": null,
   "metadata": {},
   "outputs": [],
   "source": [
    "tokenized_datasets = datasets.map(preprocess_function, batched=True)"
   ]
  },
  {
   "cell_type": "markdown",
   "metadata": {},
   "source": [
    "## 微调预训练模型\n",
    "\n",
    "数据已经准备好了，我们需要下载并加载预训练模型，然后微调预训练模型。\n",
    "\n",
    "### 加载预训练模型\n",
    "\n",
    "做**多项选择任务，那么需要一个能解决这个任务的模型类。我们使用`AutoModelForMultipleChoice` 这个类**。\n",
    "\n",
    "和之前几篇博客提到的加载方式相同不再赘述。"
   ]
  },
  {
   "cell_type": "code",
   "execution_count": null,
   "metadata": {},
   "outputs": [],
   "source": [
    "from transformers import AutoModelForMultipleChoice\n",
    "model = AutoModelForMultipleChoice.from_pretrained(model_checkpoint)"
   ]
  },
  {
   "cell_type": "markdown",
   "metadata": {},
   "source": [
    "### 设定训练参数\n",
    "\n",
    "为了能够得到一个`Trainer`训练工具，我们还需要**训练的设定/参数 [`TrainingArguments`](https://huggingface.co/transformers/main_classes/trainer.html#transformers.TrainingArguments)。这个训练设定包含了能够定义训练过程的所有属性**。"
   ]
  },
  {
   "cell_type": "code",
   "execution_count": null,
   "metadata": {},
   "outputs": [],
   "source": [
    "task='ner'\n",
    "batch_size = 16\n",
    "\n",
    "from transformers import  TrainingArguments\n",
    "\n",
    "args = TrainingArguments(    \n",
    "    \"test-glue\",    \n",
    "    evaluation_strategy = \"epoch\",    \n",
    "    learning_rate=5e-5,    \n",
    "    per_device_train_batch_size=batch_size,    \n",
    "    per_device_eval_batch_size=batch_size,    \n",
    "    num_train_epochs=3,    \n",
    "    weight_decay=0.01,\n",
    ")"
   ]
  },
  {
   "cell_type": "markdown",
   "metadata": {},
   "source": [
    "### 数据收集器data collator\n",
    "\n",
    "接下来需要告诉`Trainer`如何从预处理的输入数据中构造batch。我们使用数据收集器data collator，将经预处理的输入分batch再次处理后喂给模型。\n",
    "\n",
    "由前面`preprocess_function`函数的输出我们可以看到，每个样本都还没有做padding，我们在`data collator`中按照batch将每个batch的句子padding到每个batch最长的长度。注意，因为不同batch中最长的句子不一定都和整个数据集中的最长句子一样长，也就是说不是每个batch都需要那么长的padding，所以**这里不直接padding到最大长度，可以有效提升训练效率**。\n",
    "\n",
    "由于transformers库中没有合适的data collator来处理这样特定的问题，我们根据`DataCollatorWithPadding`稍作改动改编一个合适的。我在代码中补充了features和batch逐步转化的格式变化过程："
   ]
  },
  {
   "cell_type": "code",
   "execution_count": null,
   "metadata": {},
   "outputs": [],
   "source": [
    "from dataclasses import dataclass\n",
    "from transformers.tokenization_utils_base import PreTrainedTokenizerBase, PaddingStrategy\n",
    "from typing import Optional, Union\n",
    "import torch\n",
    "\n",
    "@dataclass\n",
    "class DataCollatorForMultipleChoice:\n",
    "    \"\"\"\n",
    "    Data collator that will dynamically pad the inputs for multiple choice received.\n",
    "    \"\"\"\n",
    "    tokenizer: PreTrainedTokenizerBase\n",
    "    padding: Union[bool, str, PaddingStrategy] = True\n",
    "    max_length: Optional[int] = None\n",
    "    pad_to_multiple_of: Optional[int] = None\n",
    "\n",
    "    def __call__(self, features):\n",
    "        #features:[{'attention_mask':[[],[],...],'input_ids':[[],[],...,'label':_},{'attention_mask':[[],[],...],'input_ids':[[],[],...,'label':_}]\n",
    "        label_name = \"label\" if \"label\" in features[0].keys() else \"labels\"\n",
    "        labels = [feature.pop(label_name) for feature in features] #将label单独弹出，features:[{'attention_mask':[[],[],...],'input_ids':[[],[],...]},{'attention_mask':[[],[],...],'input_ids':[[],[],...]}]\n",
    "        batch_size = len(features)\n",
    "        num_choices = len(features[0][\"input_ids\"])\n",
    "        \n",
    "        #feature:{'attention_mask':[[],[],...],'input_ids':[[],[],...]}\n",
    "        #flattened_features:[[{'attention_mask':[],'input_ids':[]},{},{},{}],[]....]\n",
    "        flattened_features = [[{k: v[i] for k, v in feature.items()} for i in range(num_choices)] for feature in features]\n",
    "        #flattened_features:[{'attention_mask':[],'input_ids':[]},{},{},{},{}....]\n",
    "        flattened_features = sum(flattened_features, [])\n",
    "        \n",
    "        # batch: {'attention_mask':[[],[],[],[],[],[],...],'input_ids':[[],[],[],[],[],[],...]}\n",
    "        batch = self.tokenizer.pad(\n",
    "            flattened_features,\n",
    "            padding=self.padding,\n",
    "            max_length=self.max_length,\n",
    "            pad_to_multiple_of=self.pad_to_multiple_of,\n",
    "            return_tensors=\"pt\",\n",
    "        )\n",
    "        \n",
    "        # Un-flatten\n",
    "        # batch: {'attention_mask':[[[],[],[],[]],[[],[],[],[]],[...],...],'input_ids':[[[],[],[],[]],[[],[],[],[]],[...],...]}\n",
    "        batch = {k: v.view(batch_size, num_choices, -1) for k, v in batch.items()}\n",
    "        # Add back labels\n",
    "        # batch: {'attention_mask':[[[],[],[],[]],[[],[],[],[]],[...],...],'input_ids':[[[],[],[],[]],[[],[],[],[]],[...],...],'label':[]}\n",
    "        batch[\"labels\"] = torch.tensor(labels, dtype=torch.int64)\n",
    "        return batch"
   ]
  },
  {
   "cell_type": "markdown",
   "metadata": {},
   "source": [
    "在一个10个样本的batch上检查data collator是否正常工作。\n",
    "\n",
    "**在这里我们需要确保features中只有被模型接受的输入特征（但这一步在后面`Trainer`自动会筛选）**："
   ]
  },
  {
   "cell_type": "code",
   "execution_count": null,
   "metadata": {},
   "outputs": [],
   "source": [
    "accepted_keys = [\"input_ids\", \"attention_mask\", \"label\"]\n",
    "features = [{k: v for k, v in encoded_datasets[\"train\"][i].items() if k in accepted_keys} for i in range(10)]\n",
    "batch = DataCollatorForMultipleChoice(tokenizer)(features)"
   ]
  },
  {
   "cell_type": "markdown",
   "metadata": {},
   "source": [
    "然后让我们检查单个样本是否完整，利用之前的show_one函数进行对比，看来没错！"
   ]
  },
  {
   "cell_type": "code",
   "execution_count": null,
   "metadata": {},
   "outputs": [],
   "source": [
    "[tokenizer.decode(batch[\"input_ids\"][8][i].tolist()) for i in range(4)]\n",
    "#['[CLS] someone walks over to the radio. [SEP] someone hands her another phone. [SEP] [PAD] [PAD] [PAD] [PAD] [PAD] [PAD] [PAD] [PAD] [PAD] [PAD] [PAD] [PAD] [PAD] [PAD] [PAD] [PAD] [PAD] [PAD] [PAD] [PAD] [PAD] [PAD] [PAD] [PAD]',\n",
    "# '[CLS] someone walks over to the radio. [SEP] someone takes the drink, then holds it. [SEP] [PAD] [PAD] [PAD] [PAD] [PAD] [PAD] [PAD] [PAD] [PAD] [PAD] [PAD] [PAD] [PAD] [PAD] [PAD] [PAD] [PAD] [PAD] [PAD] [PAD] [PAD]',\n",
    "# '[CLS] someone walks over to the radio. [SEP] someone looks off then looks at someone. [SEP] [PAD] [PAD] [PAD] [PAD] [PAD] [PAD] [PAD] [PAD] [PAD] [PAD] [PAD] [PAD] [PAD] [PAD] [PAD] [PAD] [PAD] [PAD] [PAD] [PAD] [PAD] [PAD]',\n",
    "# '[CLS] someone walks over to the radio. [SEP] someone stares blearily down at the floor. [SEP] [PAD] [PAD] [PAD] [PAD] [PAD] [PAD] [PAD] [PAD] [PAD] [PAD] [PAD] [PAD] [PAD] [PAD] [PAD] [PAD] [PAD] [PAD] [PAD] [PAD]']\n",
    "\n",
    "show_one(datasets[\"train\"][8])\n",
    "#    Context: Someone walks over to the radio.\n",
    "#      A - Someone hands her another phone.\n",
    "#      B - Someone takes the drink, then holds it.\n",
    "#      C - Someone looks off then looks at someone.\n",
    "#      D - Someone stares blearily down at the floor.\n",
    "#    \n",
    "#    Ground truth: option D"
   ]
  },
  {
   "cell_type": "markdown",
   "metadata": {},
   "source": [
    "### 定义评估方法\n",
    "\n",
    "我们使用`'accuracy'`对模型进行评估。\n",
    "\n",
    "需要定义一个函数计算返回精度，取预测logits的argmax得到预测标签preds，和ground_truth进行进行对比，计算精度："
   ]
  },
  {
   "cell_type": "code",
   "execution_count": null,
   "metadata": {},
   "outputs": [],
   "source": [
    "import numpy as np\n",
    "from datasets import load_metric\n",
    "def compute_metrics(eval_predictions):\n",
    "    predictions, label_ids = eval_predictions\n",
    "    preds = np.argmax(predictions, axis=1)\n",
    "    return {\"accuracy\": (preds == label_ids).astype(np.float32).mean().item()}"
   ]
  },
  {
   "cell_type": "markdown",
   "metadata": {},
   "source": [
    "### 开始训练\n",
    "\n",
    "将数据/模型/参数传入`Trainer`即可："
   ]
  },
  {
   "cell_type": "code",
   "execution_count": null,
   "metadata": {},
   "outputs": [],
   "source": [
    "from transformers import  Trainer\n",
    "trainer = Trainer(\n",
    "    model,\n",
    "    args,\n",
    "    train_dataset=encoded_datasets[\"train\"],\n",
    "    eval_dataset=encoded_datasets[\"validation\"],\n",
    "    tokenizer=tokenizer,\n",
    "    data_collator=DataCollatorForMultipleChoice(tokenizer),\n",
    "    compute_metrics=compute_metrics,\n",
    ")"
   ]
  },
  {
   "cell_type": "markdown",
   "metadata": {},
   "source": [
    "调用`train`方法开始训练："
   ]
  },
  {
   "cell_type": "code",
   "execution_count": null,
   "metadata": {},
   "outputs": [],
   "source": [
    "trainer.train()"
   ]
  },
  {
   "cell_type": "markdown",
   "metadata": {},
   "source": [
    "## 参考文献\n",
    "\n",
    "[4.4-问答任务-多选问答.md](https://github.com/datawhalechina/learn-nlp-with-transformers/blob/main/docs/篇章4-使用Transformers解决NLP任务/4.4-问答任务-多选问答.md)\n",
    "\n",
    "[BERT实战——（1）文本分类](https://ifwind.github.io/2021/08/26/BERT%E5%AE%9E%E6%88%98%E2%80%94%E2%80%94%EF%BC%881%EF%BC%89%E6%96%87%E6%9C%AC%E5%88%86%E7%B1%BB/)\n",
    "\n",
    "[transformers官方文档](https://huggingface.co/transformers)"
   ]
  }
 ],
 "metadata": {
  "kernelspec": {
   "display_name": "Python 3",
   "language": "python",
   "name": "python3"
  },
  "language_info": {
   "codemirror_mode": {
    "name": "ipython",
    "version": 3
   },
   "file_extension": ".py",
   "mimetype": "text/x-python",
   "name": "python",
   "nbconvert_exporter": "python",
   "pygments_lexer": "ipython3",
   "version": "3.7.4"
  }
 },
 "nbformat": 4,
 "nbformat_minor": 2
}
